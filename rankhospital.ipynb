{
 "cells": [
  {
   "cell_type": "code",
   "execution_count": 3,
   "id": "688b14bf-e2d0-46db-86bb-828de4487016",
   "metadata": {},
   "outputs": [],
   "source": [
    "# Importing libraries\n",
    "import pandas as pd\n",
    "import numpy as np"
   ]
  },
  {
   "cell_type": "code",
   "execution_count": 16,
   "id": "ae8b4c90-2761-474c-8226-01356a9df00f",
   "metadata": {},
   "outputs": [],
   "source": [
    "# Defining function to find the hospital in the desired rank\n",
    "def rankhospital(state, outcome, num = \"best\"):\n",
    "\n",
    "    # Read the data\n",
    "    data = pd.read_csv(\"outcome-of-care-measures.csv\")\n",
    "\n",
    "    # Check whether the state, outcome and rank are valid\n",
    "\n",
    "    # Check if state value appears on State column of data frame\n",
    "    # If not stop the function    \n",
    "    if state not in data.State.unique():\n",
    "        raise ValueError(\"Invalid state\")\n",
    "\n",
    "    # Check if outcome value is one of the possibilities\n",
    "    # If not stop the function\n",
    "    if ( (outcome != \"heart attack\") and (outcome != \"heart failure\") and (outcome != \"pneumonia\") ):\n",
    "        raise ValueError(\"Invalid outcome\")\n",
    "\n",
    "    # Check if ranking is valid\n",
    "    # If not stop the function\n",
    "    if ( (type(num) == \"str\") and ( (num != \"best\") and (num != \"worst\") ) ):\n",
    "        raise ValueError(\"Invalid rank\")\n",
    "\n",
    "    # Find the hospital with wanted rank in 30 day mortality rate in the state\n",
    "\n",
    "    # Create a data frame with only state hospitals\n",
    "    state_data = data.loc[data.State == state].copy()\n",
    "\n",
    "    # Change column of mortality rates to numeric\n",
    "    # Remove NAs values from column\n",
    "    # Order the data frame by rank and hospital names alphabetically\n",
    "    # Reset index for correct search\n",
    "    if (outcome == \"heart attack\"):\n",
    "        state_data.iloc[:, 10] = pd.to_numeric(state_data.iloc[:, 10], errors = \"coerce\")\n",
    "        state_data = state_data.dropna(subset = [state_data.columns[10]] )\n",
    "        state_data = state_data.sort_values(by = [\"Hospital 30-Day Death (Mortality) Rates from Heart Attack\", \"Hospital Name\"])\n",
    "        state_data = state_data.reset_index(drop=True)\n",
    "        \n",
    "    elif (outcome == \"heart failure\"):\n",
    "        state_data.iloc[:, 16] = pd.to_numeric(state_data.iloc[:, 16], errors = \"coerce\")\n",
    "        state_data = state_data.dropna(subset = [state_data.columns[16]] )\n",
    "        state_data = state_data.sort_values(by = [\"Hospital 30-Day Death (Mortality) Rates from Heart Failure\", \"Hospital Name\"])\n",
    "        state_data = state_data.reset_index(drop=True)\n",
    "\n",
    "    else:\n",
    "        state_data.iloc[:, 22] = pd.to_numeric(state_data.iloc[:, 22], errors = \"coerce\")\n",
    "        state_data = state_data.dropna(subset = [state_data.columns[22]] )\n",
    "        state_data = state_data.sort_values(by = [\"Hospital 30-Day Death (Mortality) Rates from Pneumonia\", \"Hospital Name\"])\n",
    "        state_data = state_data.reset_index(drop=True)\n",
    "\n",
    "    # Find the hospital (of given rank) per outcome\n",
    "\n",
    "    # Convert rank all to numeric\n",
    "    if (num == \"best\"):\n",
    "        n = 0\n",
    "    elif (num == \"worst\"):\n",
    "        n = len(state_data)-1\n",
    "    else:\n",
    "        n = num-1\n",
    "\n",
    "    # Test if rank is not larger than number of hospital\n",
    "    if (n > len(state_data) ):\n",
    "        return np.NaN\n",
    "\n",
    "    # Find the hospital of desired rank per outcome\n",
    "    rank_hosp = state_data.loc[n, \"Hospital Name\"]\n",
    "\n",
    "    # Return the hospital name\n",
    "    return rank_hosp"
   ]
  },
  {
   "cell_type": "code",
   "execution_count": 17,
   "id": "ddd5b729-ca14-466c-8890-578e030b63be",
   "metadata": {
    "scrolled": true
   },
   "outputs": [
    {
     "data": {
      "text/plain": [
       "'DETAR HOSPITAL NAVARRO'"
      ]
     },
     "execution_count": 17,
     "metadata": {},
     "output_type": "execute_result"
    }
   ],
   "source": [
    "# Test\n",
    "rankhospital(\"TX\", \"heart failure\", 4)"
   ]
  },
  {
   "cell_type": "code",
   "execution_count": 18,
   "id": "763e4429-8ed4-4f39-8960-f39bf44062af",
   "metadata": {},
   "outputs": [
    {
     "data": {
      "text/plain": [
       "'HARFORD MEMORIAL HOSPITAL'"
      ]
     },
     "execution_count": 18,
     "metadata": {},
     "output_type": "execute_result"
    }
   ],
   "source": [
    "rankhospital(\"MD\", \"heart attack\", \"worst\")"
   ]
  },
  {
   "cell_type": "code",
   "execution_count": 19,
   "id": "e4eec819-4d69-42f6-b5b8-b8e101240445",
   "metadata": {},
   "outputs": [
    {
     "data": {
      "text/plain": [
       "nan"
      ]
     },
     "execution_count": 19,
     "metadata": {},
     "output_type": "execute_result"
    }
   ],
   "source": [
    "rankhospital(\"MN\", \"heart attack\", 5000)"
   ]
  },
  {
   "cell_type": "code",
   "execution_count": null,
   "id": "9d32ed0a-db33-4000-bb0b-a99a69266415",
   "metadata": {},
   "outputs": [],
   "source": []
  }
 ],
 "metadata": {
  "kernelspec": {
   "display_name": "Python 3 (ipykernel)",
   "language": "python",
   "name": "python3"
  },
  "language_info": {
   "codemirror_mode": {
    "name": "ipython",
    "version": 3
   },
   "file_extension": ".py",
   "mimetype": "text/x-python",
   "name": "python",
   "nbconvert_exporter": "python",
   "pygments_lexer": "ipython3",
   "version": "3.8.18"
  }
 },
 "nbformat": 4,
 "nbformat_minor": 5
}
