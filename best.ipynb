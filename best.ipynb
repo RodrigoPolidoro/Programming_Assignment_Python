{
 "cells": [
  {
   "cell_type": "code",
   "execution_count": 1,
   "id": "ce60247f-11d2-47b3-ace6-de5b53f96686",
   "metadata": {},
   "outputs": [],
   "source": [
    "# Importing libraries\n",
    "import pandas as pd"
   ]
  },
  {
   "cell_type": "code",
   "execution_count": 140,
   "id": "4b858e9f-c759-4fa5-937e-9c2ca896fbd4",
   "metadata": {},
   "outputs": [],
   "source": [
    "# Defining the function to find the best hospital\n",
    "def best(state, outcome):\n",
    "\n",
    "    # Read the data\n",
    "    data = pd.read_csv(\"outcome-of-care-measures.csv\")\n",
    "\n",
    "    # Check whether the state and outcome are valid\n",
    "\n",
    "    # Check if state value appears on State column of data frame\n",
    "    # If not stop the function\n",
    "    # Commented is alternate method, add string to list and test into data frame column\n",
    "    if state not in data.State.unique():\n",
    "    # states = [ state ]\n",
    "    # if ~data.State.isin(states).any():\n",
    "        raise ValueError(\"Invalid state\")\n",
    "\n",
    "    # Check if outcome value is one of the possibilities\n",
    "    # If not stop the function\n",
    "\n",
    "    if ( (outcome != \"heart attack\") and (outcome != \"heart failure\") and (outcome != \"pneumonia\") ):\n",
    "        raise ValueError(\"Invalid outcome\")\n",
    "\n",
    "    # Find the hospital with lowest 30 day mortality rate in the state\n",
    "  \n",
    "    # Create a data frame with only state hospitals\n",
    "    state_data = data[data.State == state]\n",
    "\n",
    "    # Order the data frame by hospital names alphabetically\n",
    "    state_data = state_data.sort_values(by = \"Hospital Name\")\n",
    "\n",
    "    # Find the hospital (which one has minimum deaths) per outcome\n",
    "    if (outcome == \"heart attack\"):\n",
    "        best = state_data[\"Hospital Name\"][ pd.to_numeric(state_data.iloc[:, 10], errors = \"coerce\").idxmin() ]\n",
    "    elif (outcome == \"heart failure\"):\n",
    "        best = state_data[\"Hospital Name\"][ pd.to_numeric(state_data.iloc[:, 16], errors = \"coerce\").idxmin() ]\n",
    "    else:\n",
    "        best = state_data[\"Hospital Name\"][ pd.to_numeric(state_data.iloc[:, 22], errors = \"coerce\").idxmin() ]\n",
    "\n",
    "    # Return the hospital name\n",
    "    return best"
   ]
  },
  {
   "cell_type": "code",
   "execution_count": 141,
   "id": "c08f5d9d-9b5a-414c-a284-1b502ef9e2b1",
   "metadata": {},
   "outputs": [
    {
     "data": {
      "text/plain": [
       "'CYPRESS FAIRBANKS MEDICAL CENTER'"
      ]
     },
     "execution_count": 141,
     "metadata": {},
     "output_type": "execute_result"
    }
   ],
   "source": [
    "# Test\n",
    "best(\"TX\", \"heart attack\")"
   ]
  },
  {
   "cell_type": "code",
   "execution_count": 142,
   "id": "20fa4c18-fe8d-4620-83b8-5991426cda68",
   "metadata": {},
   "outputs": [
    {
     "data": {
      "text/plain": [
       "'FORT DUNCAN MEDICAL CENTER'"
      ]
     },
     "execution_count": 142,
     "metadata": {},
     "output_type": "execute_result"
    }
   ],
   "source": [
    "# Test\n",
    "best(\"TX\", \"heart failure\")"
   ]
  },
  {
   "cell_type": "code",
   "execution_count": 143,
   "id": "4dcc4dea-9988-4655-8c49-3164ff505470",
   "metadata": {},
   "outputs": [
    {
     "data": {
      "text/plain": [
       "'JOHNS HOPKINS HOSPITAL, THE'"
      ]
     },
     "execution_count": 143,
     "metadata": {},
     "output_type": "execute_result"
    }
   ],
   "source": [
    "# Test\n",
    "best(\"MD\", \"heart attack\")"
   ]
  },
  {
   "cell_type": "code",
   "execution_count": 144,
   "id": "fc38dcab-7c38-401b-a001-2eba60f190ee",
   "metadata": {},
   "outputs": [
    {
     "data": {
      "text/plain": [
       "'GREATER BALTIMORE MEDICAL CENTER'"
      ]
     },
     "execution_count": 144,
     "metadata": {},
     "output_type": "execute_result"
    }
   ],
   "source": [
    "# Test\n",
    "best(\"MD\", \"pneumonia\")"
   ]
  },
  {
   "cell_type": "code",
   "execution_count": 145,
   "id": "6a576ed4-0af5-4e16-b08e-4d9348e503aa",
   "metadata": {},
   "outputs": [
    {
     "ename": "ValueError",
     "evalue": "Invalid state",
     "output_type": "error",
     "traceback": [
      "\u001b[1;31m---------------------------------------------------------------------------\u001b[0m",
      "\u001b[1;31mValueError\u001b[0m                                Traceback (most recent call last)",
      "Cell \u001b[1;32mIn[145], line 2\u001b[0m\n\u001b[0;32m      1\u001b[0m \u001b[38;5;66;03m# Test\u001b[39;00m\n\u001b[1;32m----> 2\u001b[0m \u001b[43mbest\u001b[49m\u001b[43m(\u001b[49m\u001b[38;5;124;43m\"\u001b[39;49m\u001b[38;5;124;43mBB\u001b[39;49m\u001b[38;5;124;43m\"\u001b[39;49m\u001b[43m,\u001b[49m\u001b[43m \u001b[49m\u001b[38;5;124;43m\"\u001b[39;49m\u001b[38;5;124;43mheart attack\u001b[39;49m\u001b[38;5;124;43m\"\u001b[39;49m\u001b[43m)\u001b[49m\n",
      "Cell \u001b[1;32mIn[140], line 15\u001b[0m, in \u001b[0;36mbest\u001b[1;34m(state, outcome)\u001b[0m\n\u001b[0;32m      7\u001b[0m \u001b[38;5;66;03m# Check whether the state and outcome are valid\u001b[39;00m\n\u001b[0;32m      8\u001b[0m \n\u001b[0;32m      9\u001b[0m \u001b[38;5;66;03m# Check if state value appears on State column of data frame\u001b[39;00m\n\u001b[0;32m     10\u001b[0m \u001b[38;5;66;03m# If not stop the function\u001b[39;00m\n\u001b[0;32m     11\u001b[0m \u001b[38;5;66;03m# Commented is alternate method, add string to list and test into data frame column\u001b[39;00m\n\u001b[0;32m     12\u001b[0m \u001b[38;5;28;01mif\u001b[39;00m state \u001b[38;5;129;01mnot\u001b[39;00m \u001b[38;5;129;01min\u001b[39;00m data\u001b[38;5;241m.\u001b[39mState\u001b[38;5;241m.\u001b[39munique():\n\u001b[0;32m     13\u001b[0m \u001b[38;5;66;03m# states = [ state ]\u001b[39;00m\n\u001b[0;32m     14\u001b[0m \u001b[38;5;66;03m# if ~data.State.isin(states).any():\u001b[39;00m\n\u001b[1;32m---> 15\u001b[0m     \u001b[38;5;28;01mraise\u001b[39;00m \u001b[38;5;167;01mValueError\u001b[39;00m(\u001b[38;5;124m\"\u001b[39m\u001b[38;5;124mInvalid state\u001b[39m\u001b[38;5;124m\"\u001b[39m)\n\u001b[0;32m     17\u001b[0m \u001b[38;5;66;03m# Check if outcome value is one of the possibilities\u001b[39;00m\n\u001b[0;32m     18\u001b[0m \u001b[38;5;66;03m# If not stop the function\u001b[39;00m\n\u001b[0;32m     20\u001b[0m \u001b[38;5;28;01mif\u001b[39;00m ( (outcome \u001b[38;5;241m!=\u001b[39m \u001b[38;5;124m\"\u001b[39m\u001b[38;5;124mheart attack\u001b[39m\u001b[38;5;124m\"\u001b[39m) \u001b[38;5;129;01mand\u001b[39;00m (outcome \u001b[38;5;241m!=\u001b[39m \u001b[38;5;124m\"\u001b[39m\u001b[38;5;124mheart failure\u001b[39m\u001b[38;5;124m\"\u001b[39m) \u001b[38;5;129;01mand\u001b[39;00m (outcome \u001b[38;5;241m!=\u001b[39m \u001b[38;5;124m\"\u001b[39m\u001b[38;5;124mpneumonia\u001b[39m\u001b[38;5;124m\"\u001b[39m) ):\n",
      "\u001b[1;31mValueError\u001b[0m: Invalid state"
     ]
    }
   ],
   "source": [
    "# Test\n",
    "best(\"BB\", \"heart attack\")"
   ]
  },
  {
   "cell_type": "code",
   "execution_count": 146,
   "id": "f8eeaf4a-c334-42d9-8f7b-65183afab002",
   "metadata": {},
   "outputs": [
    {
     "ename": "ValueError",
     "evalue": "Invalid outcome",
     "output_type": "error",
     "traceback": [
      "\u001b[1;31m---------------------------------------------------------------------------\u001b[0m",
      "\u001b[1;31mValueError\u001b[0m                                Traceback (most recent call last)",
      "Cell \u001b[1;32mIn[146], line 2\u001b[0m\n\u001b[0;32m      1\u001b[0m \u001b[38;5;66;03m# Test \u001b[39;00m\n\u001b[1;32m----> 2\u001b[0m \u001b[43mbest\u001b[49m\u001b[43m(\u001b[49m\u001b[38;5;124;43m\"\u001b[39;49m\u001b[38;5;124;43mNY\u001b[39;49m\u001b[38;5;124;43m\"\u001b[39;49m\u001b[43m,\u001b[49m\u001b[43m \u001b[49m\u001b[38;5;124;43m\"\u001b[39;49m\u001b[38;5;124;43mhert attack\u001b[39;49m\u001b[38;5;124;43m\"\u001b[39;49m\u001b[43m)\u001b[49m\n",
      "Cell \u001b[1;32mIn[140], line 21\u001b[0m, in \u001b[0;36mbest\u001b[1;34m(state, outcome)\u001b[0m\n\u001b[0;32m     17\u001b[0m \u001b[38;5;66;03m# Check if outcome value is one of the possibilities\u001b[39;00m\n\u001b[0;32m     18\u001b[0m \u001b[38;5;66;03m# If not stop the function\u001b[39;00m\n\u001b[0;32m     20\u001b[0m \u001b[38;5;28;01mif\u001b[39;00m ( (outcome \u001b[38;5;241m!=\u001b[39m \u001b[38;5;124m\"\u001b[39m\u001b[38;5;124mheart attack\u001b[39m\u001b[38;5;124m\"\u001b[39m) \u001b[38;5;129;01mand\u001b[39;00m (outcome \u001b[38;5;241m!=\u001b[39m \u001b[38;5;124m\"\u001b[39m\u001b[38;5;124mheart failure\u001b[39m\u001b[38;5;124m\"\u001b[39m) \u001b[38;5;129;01mand\u001b[39;00m (outcome \u001b[38;5;241m!=\u001b[39m \u001b[38;5;124m\"\u001b[39m\u001b[38;5;124mpneumonia\u001b[39m\u001b[38;5;124m\"\u001b[39m) ):\n\u001b[1;32m---> 21\u001b[0m     \u001b[38;5;28;01mraise\u001b[39;00m \u001b[38;5;167;01mValueError\u001b[39;00m(\u001b[38;5;124m\"\u001b[39m\u001b[38;5;124mInvalid outcome\u001b[39m\u001b[38;5;124m\"\u001b[39m)\n\u001b[0;32m     23\u001b[0m \u001b[38;5;66;03m# Find the hospital with lowest 30 day mortality rate in the state\u001b[39;00m\n\u001b[0;32m     24\u001b[0m \n\u001b[0;32m     25\u001b[0m \u001b[38;5;66;03m# Create a data frame with only state hospitals\u001b[39;00m\n\u001b[0;32m     26\u001b[0m state_data \u001b[38;5;241m=\u001b[39m data[data\u001b[38;5;241m.\u001b[39mState \u001b[38;5;241m==\u001b[39m state]\n",
      "\u001b[1;31mValueError\u001b[0m: Invalid outcome"
     ]
    }
   ],
   "source": [
    "# Test \n",
    "best(\"NY\", \"hert attack\")"
   ]
  },
  {
   "cell_type": "code",
   "execution_count": null,
   "id": "1bfcc0d0-ac41-4c9e-9faf-2fc334852548",
   "metadata": {},
   "outputs": [],
   "source": []
  }
 ],
 "metadata": {
  "kernelspec": {
   "display_name": "Python 3 (ipykernel)",
   "language": "python",
   "name": "python3"
  },
  "language_info": {
   "codemirror_mode": {
    "name": "ipython",
    "version": 3
   },
   "file_extension": ".py",
   "mimetype": "text/x-python",
   "name": "python",
   "nbconvert_exporter": "python",
   "pygments_lexer": "ipython3",
   "version": "3.8.18"
  }
 },
 "nbformat": 4,
 "nbformat_minor": 5
}
